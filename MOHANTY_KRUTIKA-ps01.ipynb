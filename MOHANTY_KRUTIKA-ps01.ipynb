{
 "cells": [
  {
   "cell_type": "markdown",
   "metadata": {
    "ein.tags": "worksheet-0",
    "slideshow": {
     "slide_type": "-"
    }
   },
   "source": [
    "# \n",
    "\n",
    "### \n",
    "\n",
    "I acquired the following files to work on this project\n",
    "download flights.csv.bz2 and weather.csv.bz2 datasets from\n",
    "[package page on R documentation](https://www.rdocumentation.org/packages/nycflights13/versions/1.0.0)",
    "\n"
   ]
  },
  {
   "cell_type": "markdown",
   "metadata": {
    "ein.tags": "worksheet-0",
    "slideshow": {
     "slide_type": "-"
    }
   },
   "source": [
    "## About the Problem Set: \n",
    "\n",
    "This problem set is rather similar to ones used for R, dplyr, and\n",
    "flights data.  Just we use python and pandas.\n",
    "\n",
    "I will analyze the nycflights13 data (in the R package of the\n",
    "                                               same name).  The\n",
    "                                               necessary csv\n",
    "explanations is on the the [package page on R documentation](https://www.rdocumentation.org/packages/nycflights13/versions/1.0.0). \n",
    "\n",
    "1. perform a basic exploratory analysis on\n",
    "an example dataset, bringing to bear all of my new skills in data\n",
    "manipulation and visualization" ]
  },
  {
   "cell_type": "markdown",
   "metadata": {
    "ein.tags": "worksheet-0",
    "slideshow": {
     "slide_type": "-"
    }
   },
   "source": [
    "## Preliminaries\n",
    "\n",
    "You should also make sure the following libraries load correctly.\n",
    "Below are a few basic data description tasks already done for you. "
   ]
  },
  {
   "cell_type": "code",
   "execution_count": 54,
   "metadata": {
    "autoscroll": false,
    "ein.tags": "worksheet-0",
    "slideshow": {
     "slide_type": "-"
    }
   },
   "outputs": [
    {
     "name": "stdout",
     "output_type": "stream",
     "text": [
      "IPython version:       7.4.0 (need at least 1.0)\n",
      "Numpy version:        1.16.2 (need at least 1.7.1)\n",
      "SciPy version:         1.2.1 (need at least 0.12.0)\n",
      "Pandas version:       0.24.2 (need at least 0.11.0)\n",
      "Mapltolib version:     3.0.3 (need at least 1.2.1)\n",
      "Scikit-Learn version: 0.20.3 (need at least 0.13.1)\n"
     ]
    }
   ],
   "source": [
    "#IPython is what you are using now to run the notebook\n",
    "import IPython\n",
    "print( \"IPython version:      %6.6s (need at least 1.0)\" % IPython.__version__)\n",
    "\n",
    "# Numpy is a library for working with arrays and matrices\n",
    "import numpy as np\n",
    "print( \"Numpy version:        %6.6s (need at least 1.7.1)\" % np.__version__)\n",
    "\n",
    "# SciPy implements many different numerical algorithms\n",
    "import scipy as sp\n",
    "print( \"SciPy version:        %6.6s (need at least 0.12.0)\" % sp.__version__)\n",
    "\n",
    "# Pandas makes working with data tables easier\n",
    "import pandas as pd\n",
    "print( \"Pandas version:       %6.6s (need at least 0.11.0)\" % pd.__version__)\n",
    "\n",
    "# Module for plotting\n",
    "import matplotlib.pyplot as plt  \n",
    "from pylab import *\n",
    "print( \"Mapltolib version:    %6.6s (need at least 1.2.1)\" %\n",
    "       matplotlib.__version__)\n",
    "%matplotlib inline\n",
    "# necessary for in-line graphics\n",
    "\n",
    "# SciKit Learn implements several Machine Learning algorithms\n",
    "import sklearn\n",
    "print( \"Scikit-Learn version: %6.6s (need at least 0.13.1)\" %\n",
    "       sklearn.__version__)\n",
    "import os\n",
    "# for certain system-related functions"
   ]
  },
  {
   "cell_type": "code",
   "execution_count": 55,
   "metadata": {
    "autoscroll": false,
    "ein.tags": "worksheet-0",
    "slideshow": {
     "slide_type": "-"
    }
   },
   "outputs": [
    {
     "name": "stdout",
     "output_type": "stream",
     "text": [
      "C:\\Users\\i514120\\Documents\\Curriculum\\IMT 574\\ProblemSet1\n"
     ]
    }
   ],
   "source": [
    "## Let's read the data and print some summary information\n",
    "## adjust the path for your file system!\n",
    "## you can find the path like this:\n",
    "path = os.getcwd()\n",
    "print(path)\n",
    "flights_df= pd.read_csv('flights.csv.bz2')"
   ]
  },
  {
   "cell_type": "code",
   "execution_count": 56,
   "metadata": {
    "autoscroll": false,
    "ein.tags": "worksheet-0",
    "slideshow": {
     "slide_type": "-"
    }
   },
   "outputs": [
    {
     "name": "stdout",
     "output_type": "stream",
     "text": [
      "(336776, 17)\n",
      "Index(['Unnamed: 0', 'year', 'month', 'day', 'dep_time', 'dep_delay',\n",
      "       'arr_time', 'arr_delay', 'carrier', 'tailnum', 'flight', 'origin',\n",
      "       'dest', 'air_time', 'distance', 'hour', 'minute'],\n",
      "      dtype='object')\n",
      "Unnamed: 0      int64\n",
      "year            int64\n",
      "month           int64\n",
      "day             int64\n",
      "dep_time      float64\n",
      "dep_delay     float64\n",
      "arr_time      float64\n",
      "arr_delay     float64\n",
      "carrier        object\n",
      "tailnum        object\n",
      "flight          int64\n",
      "origin         object\n",
      "dest           object\n",
      "air_time      float64\n",
      "distance        int64\n",
      "hour          float64\n",
      "minute        float64\n",
      "dtype: object\n"
     ]
    }
   ],
   "source": [
    "## Extract some basic information about the data like number of rows,\n",
    "## columns, column names, data types\n",
    "print(flights_df.shape)\n",
    "print(flights_df.columns)\n",
    "print(flights_df.dtypes)"
   ]
  },
  {
   "cell_type": "code",
   "execution_count": 57,
   "metadata": {
    "autoscroll": false,
    "ein.tags": "worksheet-0",
    "slideshow": {
     "slide_type": "-"
    }
   },
   "outputs": [
    {
     "name": "stdout",
     "output_type": "stream",
     "text": [
      "head\n",
      "    Unnamed: 0  year  month  day  dep_time  dep_delay  arr_time  arr_delay  \\\n",
      "0           1  2013      1    1     517.0        2.0     830.0       11.0   \n",
      "1           2  2013      1    1     533.0        4.0     850.0       20.0   \n",
      "2           3  2013      1    1     542.0        2.0     923.0       33.0   \n",
      "3           4  2013      1    1     544.0       -1.0    1004.0      -18.0   \n",
      "4           5  2013      1    1     554.0       -6.0     812.0      -25.0   \n",
      "\n",
      "  carrier tailnum  flight origin dest  air_time  distance  hour  minute  \n",
      "0      UA  N14228    1545    EWR  IAH     227.0      1400   5.0    17.0  \n",
      "1      UA  N24211    1714    LGA  IAH     227.0      1416   5.0    33.0  \n",
      "2      AA  N619AA    1141    JFK  MIA     160.0      1089   5.0    42.0  \n",
      "3      B6  N804JB     725    JFK  BQN     183.0      1576   5.0    44.0  \n",
      "4      DL  N668DN     461    LGA  ATL     116.0       762   5.0    54.0  \n",
      "tail\n",
      "         Unnamed: 0  year  month  day  dep_time  dep_delay  arr_time  \\\n",
      "336771      336772  2013      9   30       NaN        NaN       NaN   \n",
      "336772      336773  2013      9   30       NaN        NaN       NaN   \n",
      "336773      336774  2013      9   30       NaN        NaN       NaN   \n",
      "336774      336775  2013      9   30       NaN        NaN       NaN   \n",
      "336775      336776  2013      9   30       NaN        NaN       NaN   \n",
      "\n",
      "        arr_delay carrier tailnum  flight origin dest  air_time  distance  \\\n",
      "336771        NaN      9E     NaN    3393    JFK  DCA       NaN       213   \n",
      "336772        NaN      9E     NaN    3525    LGA  SYR       NaN       198   \n",
      "336773        NaN      MQ  N535MQ    3461    LGA  BNA       NaN       764   \n",
      "336774        NaN      MQ  N511MQ    3572    LGA  CLE       NaN       419   \n",
      "336775        NaN      MQ  N839MQ    3531    LGA  RDU       NaN       431   \n",
      "\n",
      "        hour  minute  \n",
      "336771   NaN     NaN  \n",
      "336772   NaN     NaN  \n",
      "336773   NaN     NaN  \n",
      "336774   NaN     NaN  \n",
      "336775   NaN     NaN  \n",
      "destinations:\n",
      " ['IAH' 'MIA' 'BQN' 'ATL' 'ORD' 'FLL' 'IAD' 'MCO' 'PBI' 'TPA' 'LAX' 'SFO'\n",
      " 'DFW' 'BOS' 'LAS' 'MSP' 'DTW' 'RSW' 'SJU' 'PHX' 'BWI' 'CLT' 'BUF' 'DEN'\n",
      " 'SNA' 'MSY' 'SLC' 'XNA' 'MKE' 'SEA' 'ROC' 'SYR' 'SRQ' 'RDU' 'CMH' 'JAX'\n",
      " 'CHS' 'MEM' 'PIT' 'SAN' 'DCA' 'CLE' 'STL' 'MYR' 'JAC' 'MDW' 'HNL' 'BNA'\n",
      " 'AUS' 'BTV' 'PHL' 'STT' 'EGE' 'AVL' 'PWM' 'IND' 'SAV' 'CAK' 'HOU' 'LGB'\n",
      " 'DAY' 'ALB' 'BDL' 'MHT' 'MSN' 'GSO' 'CVG' 'BUR' 'RIC' 'GSP' 'GRR' 'MCI'\n",
      " 'ORF' 'SAT' 'SDF' 'PDX' 'SJC' 'OMA' 'CRW' 'OAK' 'SMF' 'TUL' 'TYS' 'OKC'\n",
      " 'PVD' 'DSM' 'PSE' 'BHM' 'CAE' 'HDN' 'BZN' 'MTJ' 'EYW' 'PSP' 'ACK' 'BGR'\n",
      " 'ABQ' 'ILM' 'MVY' 'SBN' 'LEX' 'CHO' 'TVC' 'ANC' 'LGA']\n"
     ]
    }
   ],
   "source": [
    "## print the first and last few lines of the data\n",
    "print(\"head\\n\", flights_df.head())\n",
    "print(\"tail\\n\", flights_df.tail())\n",
    "## Find the number of unique destinations in the data ('dest')\n",
    "print(\"destinations:\\n\", flights_df.dest.unique())\n"
   ]
  },
  {
   "cell_type": "markdown",
   "metadata": {
    "ein.tags": "worksheet-0",
    "slideshow": {
     "slide_type": "-"
    }
   },
   "source": [
    "## Some Tips\n",
    "\n",
    "* This assignment involves extensive Data frame splitting and\n",
    "  aggregation. You should look into the details of the methods\n",
    "  groupby, transform, sum, count, mean etc \n",
    "* Many of the tasks in the assignment can be done either through the\n",
    "  Pandas Data Frame or by converting the data frames to Series. Many\n",
    "  of the methods in the numpy are applicable to Series only. When\n",
    "  stuck, try to explore the type of object (Pandas Data Frame or Numpy\n",
    "  Series) you are dealing with. "
   ]
  },
  {
   "cell_type": "markdown",
   "metadata": {
    "ein.tags": "worksheet-0",
    "slideshow": {
     "slide_type": "-"
    }
   },
   "source": [
    "## Question 1\n",
    "\n",
    "Let’s explore flights from NYC to LA. Use the flights dataset to answer the following questions.\n",
    "\n",
    "### (a)\n",
    "\n",
    "How many flights were there from NYC airports to Los Angeles International Airport (LAX) in 2013?"
   ]
  },
  {
   "cell_type": "code",
   "execution_count": 58,
   "metadata": {
    "autoscroll": false,
    "ein.tags": "worksheet-0",
    "slideshow": {
     "slide_type": "-"
    }
   },
   "outputs": [
    {
     "data": {
      "text/plain": [
       "16174"
      ]
     },
     "execution_count": 58,
     "metadata": {},
     "output_type": "execute_result"
    }
   ],
   "source": [
    "# Your code here\n",
    "Grouped_by_dest= flights_df.groupby(['dest']).get_group('LAX')\n",
    "Grouped_by_dest['flight'].count()"
   ]
  },
  {
   "cell_type": "markdown",
   "metadata": {},
   "source": [
    "Answer: There were 16174 flights from NYC to LAX in 2013"
   ]
  },
  {
   "cell_type": "markdown",
   "metadata": {
    "ein.tags": "worksheet-0",
    "slideshow": {
     "slide_type": "-"
    }
   },
   "source": [
    "### (b)\n",
    "\n",
    "Which airline ('carrier') has the most flights from NYC to LAX? Which one has the least number of flights? Report the numbers respectively. "
   ]
  },
  {
   "cell_type": "code",
   "execution_count": 59,
   "metadata": {
    "autoscroll": false,
    "ein.tags": "worksheet-0",
    "slideshow": {
     "slide_type": "-"
    }
   },
   "outputs": [
    {
     "data": {
      "text/plain": [
       "carrier\n",
       "UA    5823\n",
       "AA    3582\n",
       "VX    2580\n",
       "DL    2501\n",
       "B6    1688\n",
       "Name: flight, dtype: int64"
      ]
     },
     "execution_count": 59,
     "metadata": {},
     "output_type": "execute_result"
    }
   ],
   "source": [
    "# Your code here\n",
    "# Check number of flights for each airline\n",
    "LAX_carrier=Grouped_by_dest.groupby(['carrier']).count()\n",
    "LAX_carrier=LAX_carrier.sort_values('flight', ascending=False)\n",
    "LAX_carrier['flight']"
   ]
  },
  {
   "cell_type": "markdown",
   "metadata": {},
   "source": [
    "Answer: UA(United Airlines) had the highest number of flights from NYC to LAX and B6(JetBlue) had the least"
   ]
  },
  {
   "cell_type": "markdown",
   "metadata": {
    "ein.tags": "worksheet-0",
    "slideshow": {
     "slide_type": "-"
    }
   },
   "source": [
    "### (c)\n",
    "\n",
    "How many unique air planes fly from NYC to LAX?\n",
    "(Hint: use 'tailnum', essentially the license plate of airplane)"
   ]
  },
  {
   "cell_type": "code",
   "execution_count": 60,
   "metadata": {
    "autoscroll": false,
    "ein.tags": "worksheet-0",
    "slideshow": {
     "slide_type": "-"
    }
   },
   "outputs": [
    {
     "data": {
      "text/plain": [
       "991"
      ]
     },
     "execution_count": 60,
     "metadata": {},
     "output_type": "execute_result"
    }
   ],
   "source": [
    "# Your code here\n",
    "Grouped_by_dest.tailnum.dropna().nunique()"
   ]
  },
  {
   "cell_type": "markdown",
   "metadata": {},
   "source": [
    "Answer: There are 991 unique airplanes from NYC to LAX"
   ]
  },
  {
   "cell_type": "markdown",
   "metadata": {
    "ein.tags": "worksheet-0",
    "slideshow": {
     "slide_type": "-"
    }
   },
   "source": [
    "### (d)\n",
    "\n",
    "What is the average arrival delay for flights from NYC to LAX?"
   ]
  },
  {
   "cell_type": "code",
   "execution_count": 334,
   "metadata": {
    "autoscroll": false,
    "ein.tags": "worksheet-0",
    "slideshow": {
     "slide_type": "-"
    }
   },
   "outputs": [
    {
     "data": {
      "text/plain": [
       "0.5471109447148383"
      ]
     },
     "execution_count": 334,
     "metadata": {},
     "output_type": "execute_result"
    }
   ],
   "source": [
    "# Your code here\n",
    "Grouped_by_dest.arr_delay.dropna().mean()"
   ]
  },
  {
   "cell_type": "markdown",
   "metadata": {},
   "source": [
    "Answer: average arrival delay for flights from NYC to LAX is 0.5 minute"
   ]
  },
  {
   "cell_type": "markdown",
   "metadata": {
    "ein.tags": "worksheet-0",
    "slideshow": {
     "slide_type": "-"
    }
   },
   "source": [
    "### (e)\n",
    "\n",
    "What proportion of flights to LAX come from each NYC airport?"
   ]
  },
  {
   "cell_type": "code",
   "execution_count": 335,
   "metadata": {
    "autoscroll": false,
    "ein.tags": "worksheet-0",
    "slideshow": {
     "slide_type": "-"
    }
   },
   "outputs": [
    {
     "data": {
      "text/html": [
       "<div>\n",
       "<style scoped>\n",
       "    .dataframe tbody tr th:only-of-type {\n",
       "        vertical-align: middle;\n",
       "    }\n",
       "\n",
       "    .dataframe tbody tr th {\n",
       "        vertical-align: top;\n",
       "    }\n",
       "\n",
       "    .dataframe thead th {\n",
       "        text-align: right;\n",
       "    }\n",
       "</style>\n",
       "<table border=\"1\" class=\"dataframe\">\n",
       "  <thead>\n",
       "    <tr style=\"text-align: right;\">\n",
       "      <th></th>\n",
       "      <th>flight</th>\n",
       "    </tr>\n",
       "    <tr>\n",
       "      <th>origin</th>\n",
       "      <th></th>\n",
       "    </tr>\n",
       "  </thead>\n",
       "  <tbody>\n",
       "    <tr>\n",
       "      <th>JFK</th>\n",
       "      <td>69.630271</td>\n",
       "    </tr>\n",
       "    <tr>\n",
       "      <th>EWR</th>\n",
       "      <td>30.369729</td>\n",
       "    </tr>\n",
       "  </tbody>\n",
       "</table>\n",
       "</div>"
      ],
      "text/plain": [
       "           flight\n",
       "origin           \n",
       "JFK     69.630271\n",
       "EWR     30.369729"
      ]
     },
     "execution_count": 335,
     "metadata": {},
     "output_type": "execute_result"
    }
   ],
   "source": [
    "# Your code here\n",
    "LAX_origin=Grouped_by_dest[['origin','flight']].groupby(['origin']).count().sort_values('flight', ascending=False).apply(lambda g: g*100 / g.sum())\n",
    "LAX_origin"
   ]
  },
  {
   "cell_type": "markdown",
   "metadata": {},
   "source": [
    "Answer: Around 70% of flight come from JFK to LAX and 30% of flights come from EWR to LAX"
   ]
  },
  {
   "cell_type": "markdown",
   "metadata": {
    "ein.tags": "worksheet-0",
    "slideshow": {
     "slide_type": "-"
    }
   },
   "source": [
    "## Question 2\n",
    "\n",
    "Now let's explore the entire NYC flight dataset. Flights are often delayed. Consider the following questions exploring delay patterns.\n",
    "\n",
    "### (a)\n",
    "\n",
    "Which date has the largest average departure delay? Which date has the largest average arrival delay?"
   ]
  },
  {
   "cell_type": "code",
   "execution_count": 87,
   "metadata": {
    "autoscroll": false,
    "ein.tags": "worksheet-0",
    "slideshow": {
     "slide_type": "-"
    }
   },
   "outputs": [
    {
     "data": {
      "text/plain": [
       "date\n",
       "2013-3-8    83.536921\n",
       "Name: dep_delay, dtype: float64"
      ]
     },
     "execution_count": 87,
     "metadata": {},
     "output_type": "execute_result"
    }
   ],
   "source": [
    "# Your code here\n",
    "flights_df['date'] = flights_df['year'].astype(str) + \"-\" + flights_df['month'].astype(str) + \"-\" + flights_df['day'].astype(str)\n",
    "avg_date=flights_df.groupby(['date']).mean()\n",
    "avg_date.sort_values(['dep_delay'], ascending = False)['dep_delay'].head(1)"
   ]
  },
  {
   "cell_type": "code",
   "execution_count": 88,
   "metadata": {},
   "outputs": [
    {
     "data": {
      "text/plain": [
       "date\n",
       "2013-3-8    85.862155\n",
       "Name: arr_delay, dtype: float64"
      ]
     },
     "execution_count": 88,
     "metadata": {},
     "output_type": "execute_result"
    }
   ],
   "source": [
    "avg_date.sort_values(['arr_delay'], ascending = False)['arr_delay'].head(1)"
   ]
  },
  {
   "cell_type": "markdown",
   "metadata": {},
   "source": [
    "Answer:  \n",
    "\n",
    "largest average departure delay:83.536921 date: 2013-3-8\n",
    "\n",
    "largest average arrival delay:85.862155 date: 2013-3-8"
   ]
  },
  {
   "cell_type": "markdown",
   "metadata": {
    "ein.tags": "worksheet-0",
    "slideshow": {
     "slide_type": "-"
    }
   },
   "source": [
    "### (b)\n",
    "\n",
    "What was the worst day and the best day to fly out of NYC in 2013\n",
    "if you dislike delayed flights?\n",
    "\n",
    "Note: we ask the largest delay given there was a (positive) delay, we\n",
    "don't care about flights that were in time or early."
   ]
  },
  {
   "cell_type": "code",
   "execution_count": 342,
   "metadata": {
    "autoscroll": false,
    "ein.tags": "worksheet-0",
    "scrolled": true,
    "slideshow": {
     "slide_type": "-"
    }
   },
   "outputs": [
    {
     "data": {
      "text/plain": [
       "date\n",
       "2013-3-8    102.903522\n",
       "Name: dep_delay, dtype: float64"
      ]
     },
     "execution_count": 342,
     "metadata": {},
     "output_type": "execute_result"
    }
   ],
   "source": [
    "# Your code here\n",
    "dep_delay = flights_df[flights_df['dep_delay'] > 0]\n",
    "dep_delay=dep_delay.groupby(['date']).mean()\n",
    "dep_delay.sort_values(['dep_delay'], ascending = False)['dep_delay'].head(1)"
   ]
  },
  {
   "cell_type": "code",
   "execution_count": 343,
   "metadata": {},
   "outputs": [
    {
     "data": {
      "text/plain": [
       "date\n",
       "2013-11-9    17.156028\n",
       "Name: dep_delay, dtype: float64"
      ]
     },
     "execution_count": 343,
     "metadata": {},
     "output_type": "execute_result"
    }
   ],
   "source": [
    "dep_delay.sort_values(['dep_delay'], ascending = True)['dep_delay'].head(1)"
   ]
  },
  {
   "cell_type": "markdown",
   "metadata": {},
   "source": [
    "Answer:\n",
    "\n",
    "worst day delay:102.903522 date: 2013-3-8\n",
    "\n",
    "best day delay:17.156028 date: 2013-11-9"
   ]
  },
  {
   "cell_type": "markdown",
   "metadata": {
    "ein.tags": "worksheet-0",
    "slideshow": {
     "slide_type": "-"
    }
   },
   "source": [
    "### (c)\n",
    "\n",
    "On average which airline has the lowest departure delay for\n",
    "   their NYC flights in 2013 in this dataset? and which one has the\n",
    "   greatest departure delay?\n",
    "\n",
    "Note: here we want to include both positive and negative delays (early departures)   "
   ]
  },
  {
   "cell_type": "code",
   "execution_count": 344,
   "metadata": {
    "autoscroll": false,
    "ein.tags": "worksheet-0",
    "slideshow": {
     "slide_type": "-"
    }
   },
   "outputs": [
    {
     "data": {
      "text/plain": [
       "carrier\n",
       "F9    20.215543\n",
       "Name: dep_delay, dtype: float64"
      ]
     },
     "execution_count": 344,
     "metadata": {},
     "output_type": "execute_result"
    }
   ],
   "source": [
    "# Your code here\n",
    "dep_carrier=flights_df.groupby(['carrier']).mean()\n",
    "dep_carrier.sort_values(['dep_delay'], ascending = False)['dep_delay'].head(1)"
   ]
  },
  {
   "cell_type": "code",
   "execution_count": 345,
   "metadata": {},
   "outputs": [
    {
     "data": {
      "text/plain": [
       "carrier\n",
       "US    3.782418\n",
       "Name: dep_delay, dtype: float64"
      ]
     },
     "execution_count": 345,
     "metadata": {},
     "output_type": "execute_result"
    }
   ],
   "source": [
    "dep_carrier.sort_values(['dep_delay'], ascending = True)['dep_delay'].head(1)"
   ]
  },
  {
   "cell_type": "markdown",
   "metadata": {},
   "source": [
    "Answer:\n",
    "\n",
    "greatest departure delay: 20.215543   carrier: F9\n",
    "\n",
    "lowest departure delay: 3.782418   carrier: US"
   ]
  },
  {
   "cell_type": "markdown",
   "metadata": {
    "ein.tags": "worksheet-0",
    "slideshow": {
     "slide_type": "-"
    }
   },
   "source": [
    "### (d)\n",
    "\n",
    "Are there any seasonal patterns in departure delays for flights from NYC?"
   ]
  },
  {
   "cell_type": "code",
   "execution_count": 346,
   "metadata": {
    "autoscroll": false,
    "ein.tags": "worksheet-0",
    "slideshow": {
     "slide_type": "-"
    }
   },
   "outputs": [
    {
     "data": {
      "text/plain": [
       "Text(0, 0.5, 'Avg Departure delay')"
      ]
     },
     "execution_count": 346,
     "metadata": {},
     "output_type": "execute_result"
    },
    {
     "data": {
      "image/png": "[encoded data removed]",
      "text/plain": [
       "<Figure size 432x288 with 1 Axes>"
      ]
     },
     "metadata": {
      "needs_background": "light"
     },
     "output_type": "display_data"
    }
   ],
   "source": [
    "# Your code here\n",
    "import matplotlib.pyplot as plt\n",
    "\n",
    "plt.plot(flights_df.groupby('month')['dep_delay'].mean())\n",
    "plt.xlabel('Months')\n",
    "plt.ylabel('Avg Departure delay')\n",
    "#plt.show()"
   ]
  },
  {
   "cell_type": "markdown",
   "metadata": {},
   "source": [
    "Answer: It looks like the delays are more during the summer i.e. from June to August. This could be possible because these are considered holidays and hence airports are crowded.\n",
    "Also, there is a spike in December which is also a holiday season time."
   ]
  },
  {
   "cell_type": "code",
   "execution_count": 347,
   "metadata": {},
   "outputs": [
    {
     "data": {
      "text/plain": [
       "Text(0, 0.5, 'Avg number of flights')"
      ]
     },
     "execution_count": 347,
     "metadata": {},
     "output_type": "execute_result"
    },
    {
     "data": {
      "image/png": "[encoded data removed]",
      "text/plain": [
       "<Figure size 432x288 with 1 Axes>"
      ]
     },
     "metadata": {
      "needs_background": "light"
     },
     "output_type": "display_data"
    }
   ],
   "source": [
    "#using positive delays\n",
    "plt.plot(dep_delay.groupby('month')['dep_delay'].count())\n",
    "plt.xlabel('Months')\n",
    "plt.ylabel('Avg number of flights')"
   ]
  },
  {
   "cell_type": "markdown",
   "metadata": {},
   "source": [
    "Answer: number of positive delays do not point out anything concrete about the season. However, there were very less number of delays in february"
   ]
  },
  {
   "cell_type": "markdown",
   "metadata": {
    "ein.tags": "worksheet-0",
    "slideshow": {
     "slide_type": "-"
    }
   },
   "source": [
    "### (e)\n",
    "\n",
    "On average, how do departure delays vary over the course of a day?"
   ]
  },
  {
   "cell_type": "code",
   "execution_count": 348,
   "metadata": {
    "autoscroll": false,
    "ein.tags": "worksheet-0",
    "slideshow": {
     "slide_type": "-"
    }
   },
   "outputs": [
    {
     "data": {
      "text/plain": [
       "Text(0, 0.5, 'Avg Departure delay')"
      ]
     },
     "execution_count": 348,
     "metadata": {},
     "output_type": "execute_result"
    },
    {
     "data": {
      "image/png": "[encoded data removed]",
      "text/plain": [
       "<Figure size 432x288 with 1 Axes>"
      ]
     },
     "metadata": {
      "needs_background": "light"
     },
     "output_type": "display_data"
    }
   ],
   "source": [
    "# Your code here\n",
    "day_dep_delay=flights_df.dropna(subset=['dep_delay','hour'])\n",
    "plt.plot(day_dep_delay.groupby('hour')['dep_delay'].mean())\n",
    "plt.xlabel('Hours', size=24)\n",
    "plt.ylabel('Avg Departure delay')"
   ]
  },
  {
   "cell_type": "markdown",
   "metadata": {},
   "source": [
    "Answer: Delays are high during midnight from 12-4 am, post which the delays are less. It Starts to spike again after 8pm. "
   ]
  },
  {
   "cell_type": "markdown",
   "metadata": {
    "ein.tags": "worksheet-0",
    "slideshow": {
     "slide_type": "-"
    }
   },
   "source": [
    "## Question 3\n",
    "\n",
    "Which flight departing NYC in 2013 flew the slowest?\n",
    "\n",
    "Note: compute the speed as distance/time."
   ]
  },
  {
   "cell_type": "code",
   "execution_count": 349,
   "metadata": {
    "autoscroll": false,
    "ein.tags": "worksheet-0",
    "slideshow": {
     "slide_type": "-"
    }
   },
   "outputs": [
    {
     "data": {
      "text/html": [
       "<div>\n",
       "<style scoped>\n",
       "    .dataframe tbody tr th:only-of-type {\n",
       "        vertical-align: middle;\n",
       "    }\n",
       "\n",
       "    .dataframe tbody tr th {\n",
       "        vertical-align: top;\n",
       "    }\n",
       "\n",
       "    .dataframe thead th {\n",
       "        text-align: right;\n",
       "    }\n",
       "</style>\n",
       "<table border=\"1\" class=\"dataframe\">\n",
       "  <thead>\n",
       "    <tr style=\"text-align: right;\">\n",
       "      <th></th>\n",
       "      <th>Unnamed: 0</th>\n",
       "      <th>year</th>\n",
       "      <th>month</th>\n",
       "      <th>day</th>\n",
       "      <th>dep_time</th>\n",
       "      <th>dep_delay</th>\n",
       "      <th>arr_time</th>\n",
       "      <th>arr_delay</th>\n",
       "      <th>carrier</th>\n",
       "      <th>tailnum</th>\n",
       "      <th>flight</th>\n",
       "      <th>origin</th>\n",
       "      <th>dest</th>\n",
       "      <th>air_time</th>\n",
       "      <th>distance</th>\n",
       "      <th>hour</th>\n",
       "      <th>minute</th>\n",
       "      <th>date</th>\n",
       "      <th>speed</th>\n",
       "      <th>carrier_flight_dest</th>\n",
       "    </tr>\n",
       "  </thead>\n",
       "  <tbody>\n",
       "    <tr>\n",
       "      <th>24098</th>\n",
       "      <td>24099</td>\n",
       "      <td>2013</td>\n",
       "      <td>1</td>\n",
       "      <td>28</td>\n",
       "      <td>1917.0</td>\n",
       "      <td>52.0</td>\n",
       "      <td>2118.0</td>\n",
       "      <td>103.0</td>\n",
       "      <td>US</td>\n",
       "      <td>N755US</td>\n",
       "      <td>1860</td>\n",
       "      <td>LGA</td>\n",
       "      <td>PHL</td>\n",
       "      <td>75.0</td>\n",
       "      <td>96</td>\n",
       "      <td>19.0</td>\n",
       "      <td>17.0</td>\n",
       "      <td>2013-1-28</td>\n",
       "      <td>76.8</td>\n",
       "      <td>US 1860 PHL</td>\n",
       "    </tr>\n",
       "  </tbody>\n",
       "</table>\n",
       "</div>"
      ],
      "text/plain": [
       "       Unnamed: 0  year  month  day  dep_time  dep_delay  arr_time  arr_delay  \\\n",
       "24098       24099  2013      1   28    1917.0       52.0    2118.0      103.0   \n",
       "\n",
       "      carrier tailnum  flight origin dest  air_time  distance  hour  minute  \\\n",
       "24098      US  N755US    1860    LGA  PHL      75.0        96  19.0    17.0   \n",
       "\n",
       "            date  speed carrier_flight_dest  \n",
       "24098  2013-1-28   76.8         US 1860 PHL  "
      ]
     },
     "execution_count": 349,
     "metadata": {},
     "output_type": "execute_result"
    }
   ],
   "source": [
    "# Your code here\n",
    "flights_df.head()\n",
    "#speed in miles per hour\n",
    "flights_df['speed'] = flights_df['distance']/(flights_df['air_time']/60)\n",
    "flights_df.sort_values('speed',ascending = True).head(1)"
   ]
  },
  {
   "cell_type": "markdown",
   "metadata": {},
   "source": [
    "Answer: Flight from LGA to PHL on January 28th 2013 was the slowest with the speed 76.8 miles per hour."
   ]
  },
  {
   "cell_type": "markdown",
   "metadata": {
    "ein.tags": "worksheet-0",
    "slideshow": {
     "slide_type": "-"
    }
   },
   "source": [
    "## Question 4\n",
    "\n",
    "Which flights (i.e. carrier + flight + dest) happen every day? Where do they fly to?"
   ]
  },
  {
   "cell_type": "code",
   "execution_count": 189,
   "metadata": {
    "autoscroll": false,
    "ein.tags": "worksheet-0",
    "slideshow": {
     "slide_type": "-"
    }
   },
   "outputs": [
    {
     "name": "stderr",
     "output_type": "stream",
     "text": [
      "C:\\ProgramData\\Anaconda3\\lib\\site-packages\\pandas\\core\\frame.py:3391: SettingWithCopyWarning: \n",
      "A value is trying to be set on a copy of a slice from a DataFrame.\n",
      "Try using .loc[row_indexer,col_indexer] = value instead\n",
      "\n",
      "See the caveats in the documentation: http://pandas.pydata.org/pandas-docs/stable/indexing.html#indexing-view-versus-copy\n",
      "  self[k1] = value[k2]\n"
     ]
    },
    {
     "data": {
      "text/html": [
       "<div>\n",
       "<style scoped>\n",
       "    .dataframe tbody tr th:only-of-type {\n",
       "        vertical-align: middle;\n",
       "    }\n",
       "\n",
       "    .dataframe tbody tr th {\n",
       "        vertical-align: top;\n",
       "    }\n",
       "\n",
       "    .dataframe thead th {\n",
       "        text-align: right;\n",
       "    }\n",
       "</style>\n",
       "<table border=\"1\" class=\"dataframe\">\n",
       "  <thead>\n",
       "    <tr style=\"text-align: right;\">\n",
       "      <th></th>\n",
       "      <th>carrier_flight_dest</th>\n",
       "      <th>carrier</th>\n",
       "      <th>flight</th>\n",
       "      <th>dest</th>\n",
       "    </tr>\n",
       "  </thead>\n",
       "  <tbody>\n",
       "    <tr>\n",
       "      <th>0</th>\n",
       "      <td>UA 15 HNL</td>\n",
       "      <td>UA</td>\n",
       "      <td>15</td>\n",
       "      <td>HNL</td>\n",
       "    </tr>\n",
       "    <tr>\n",
       "      <th>1</th>\n",
       "      <td>B6 371 FLL</td>\n",
       "      <td>B6</td>\n",
       "      <td>371</td>\n",
       "      <td>FLL</td>\n",
       "    </tr>\n",
       "    <tr>\n",
       "      <th>2</th>\n",
       "      <td>AA 181 LAX</td>\n",
       "      <td>AA</td>\n",
       "      <td>181</td>\n",
       "      <td>LAX</td>\n",
       "    </tr>\n",
       "    <tr>\n",
       "      <th>3</th>\n",
       "      <td>B6 219 CLT</td>\n",
       "      <td>B6</td>\n",
       "      <td>219</td>\n",
       "      <td>CLT</td>\n",
       "    </tr>\n",
       "    <tr>\n",
       "      <th>4</th>\n",
       "      <td>AA 119 LAX</td>\n",
       "      <td>AA</td>\n",
       "      <td>119</td>\n",
       "      <td>LAX</td>\n",
       "    </tr>\n",
       "    <tr>\n",
       "      <th>5</th>\n",
       "      <td>B6 703 SJU</td>\n",
       "      <td>B6</td>\n",
       "      <td>703</td>\n",
       "      <td>SJU</td>\n",
       "    </tr>\n",
       "    <tr>\n",
       "      <th>6</th>\n",
       "      <td>DL 2391 TPA</td>\n",
       "      <td>DL</td>\n",
       "      <td>2391</td>\n",
       "      <td>TPA</td>\n",
       "    </tr>\n",
       "    <tr>\n",
       "      <th>7</th>\n",
       "      <td>AA 1357 SJU</td>\n",
       "      <td>AA</td>\n",
       "      <td>1357</td>\n",
       "      <td>SJU</td>\n",
       "    </tr>\n",
       "    <tr>\n",
       "      <th>8</th>\n",
       "      <td>EV 5712 IAD</td>\n",
       "      <td>EV</td>\n",
       "      <td>5712</td>\n",
       "      <td>IAD</td>\n",
       "    </tr>\n",
       "    <tr>\n",
       "      <th>9</th>\n",
       "      <td>VX 251 LAS</td>\n",
       "      <td>VX</td>\n",
       "      <td>251</td>\n",
       "      <td>LAS</td>\n",
       "    </tr>\n",
       "    <tr>\n",
       "      <th>10</th>\n",
       "      <td>AA 1611 MIA</td>\n",
       "      <td>AA</td>\n",
       "      <td>1611</td>\n",
       "      <td>MIA</td>\n",
       "    </tr>\n",
       "    <tr>\n",
       "      <th>11</th>\n",
       "      <td>VX 413 LAX</td>\n",
       "      <td>VX</td>\n",
       "      <td>413</td>\n",
       "      <td>LAX</td>\n",
       "    </tr>\n",
       "    <tr>\n",
       "      <th>12</th>\n",
       "      <td>DL 2159 MCO</td>\n",
       "      <td>DL</td>\n",
       "      <td>2159</td>\n",
       "      <td>MCO</td>\n",
       "    </tr>\n",
       "    <tr>\n",
       "      <th>13</th>\n",
       "      <td>B6 431 SRQ</td>\n",
       "      <td>B6</td>\n",
       "      <td>431</td>\n",
       "      <td>SRQ</td>\n",
       "    </tr>\n",
       "    <tr>\n",
       "      <th>14</th>\n",
       "      <td>VX 407 LAX</td>\n",
       "      <td>VX</td>\n",
       "      <td>407</td>\n",
       "      <td>LAX</td>\n",
       "    </tr>\n",
       "    <tr>\n",
       "      <th>15</th>\n",
       "      <td>AA 59 SFO</td>\n",
       "      <td>AA</td>\n",
       "      <td>59</td>\n",
       "      <td>SFO</td>\n",
       "    </tr>\n",
       "    <tr>\n",
       "      <th>16</th>\n",
       "      <td>B6 1783 MCO</td>\n",
       "      <td>B6</td>\n",
       "      <td>1783</td>\n",
       "      <td>MCO</td>\n",
       "    </tr>\n",
       "    <tr>\n",
       "      <th>17</th>\n",
       "      <td>B6 359 BUR</td>\n",
       "      <td>B6</td>\n",
       "      <td>359</td>\n",
       "      <td>BUR</td>\n",
       "    </tr>\n",
       "  </tbody>\n",
       "</table>\n",
       "</div>"
      ],
      "text/plain": [
       "   carrier_flight_dest carrier flight dest\n",
       "0            UA 15 HNL      UA     15  HNL\n",
       "1           B6 371 FLL      B6    371  FLL\n",
       "2           AA 181 LAX      AA    181  LAX\n",
       "3           B6 219 CLT      B6    219  CLT\n",
       "4           AA 119 LAX      AA    119  LAX\n",
       "5           B6 703 SJU      B6    703  SJU\n",
       "6          DL 2391 TPA      DL   2391  TPA\n",
       "7          AA 1357 SJU      AA   1357  SJU\n",
       "8          EV 5712 IAD      EV   5712  IAD\n",
       "9           VX 251 LAS      VX    251  LAS\n",
       "10         AA 1611 MIA      AA   1611  MIA\n",
       "11          VX 413 LAX      VX    413  LAX\n",
       "12         DL 2159 MCO      DL   2159  MCO\n",
       "13          B6 431 SRQ      B6    431  SRQ\n",
       "14          VX 407 LAX      VX    407  LAX\n",
       "15           AA 59 SFO      AA     59  SFO\n",
       "16         B6 1783 MCO      B6   1783  MCO\n",
       "17          B6 359 BUR      B6    359  BUR"
      ]
     },
     "execution_count": 189,
     "metadata": {},
     "output_type": "execute_result"
    }
   ],
   "source": [
    "# Your code here\n",
    "#creating a column for a unique carrier + flight + dest\n",
    "flights_df['carrier_flight_dest'] = flights_df['carrier'].astype(str) + ' ' + flights_df['flight'].astype(str) + ' ' + flights_df['dest'].astype(str)\n",
    "\n",
    "#checking the number of days in the year the flights flew from NYC\n",
    "#unique_dates= flights_df.date.unique()\n",
    "#unique_dates\n",
    "#unique_dates.shape\n",
    "\n",
    "#removed all the flights with duplicate entries of the date, in case a flight flies twice a day but does fly other days(to remove incorrect numbers)\n",
    "unique_date_flight= flights_df.drop_duplicates(subset=['carrier_flight_dest','date'], keep='first')\n",
    "\n",
    "#count the number of unique days for the unique flights \n",
    "count_year_flights=unique_date_flight.groupby('carrier_flight_dest').count().sort_values('date',ascending = False)\n",
    "count_year_flights\n",
    "\n",
    "#capturing flights that flew everyday in 365 days\n",
    "all_year_flights = count_year_flights[count_year_flights['date'] > 364]\n",
    "all_year_flights.reset_index(level=0, inplace=True)\n",
    "final_list=all_year_flights[['carrier_flight_dest']]\n",
    "final_list[['carrier','flight','dest']] = final_list['carrier_flight_dest'].str.split(\" \",expand=True)\n",
    "final_list"
   ]
  },
  {
   "cell_type": "markdown",
   "metadata": {},
   "source": [
    "Answer: There are 17 such flights that fly everyday to different locations"
   ]
  },
  {
   "cell_type": "code",
   "execution_count": 192,
   "metadata": {},
   "outputs": [
    {
     "data": {
      "text/html": [
       "<div>\n",
       "<style scoped>\n",
       "    .dataframe tbody tr th:only-of-type {\n",
       "        vertical-align: middle;\n",
       "    }\n",
       "\n",
       "    .dataframe tbody tr th {\n",
       "        vertical-align: top;\n",
       "    }\n",
       "\n",
       "    .dataframe thead th {\n",
       "        text-align: right;\n",
       "    }\n",
       "</style>\n",
       "<table border=\"1\" class=\"dataframe\">\n",
       "  <thead>\n",
       "    <tr style=\"text-align: right;\">\n",
       "      <th></th>\n",
       "      <th>carrier_flight_dest</th>\n",
       "      <th>carrier</th>\n",
       "      <th>flight</th>\n",
       "      <th>dest</th>\n",
       "    </tr>\n",
       "    <tr>\n",
       "      <th>dest</th>\n",
       "      <th></th>\n",
       "      <th></th>\n",
       "      <th></th>\n",
       "      <th></th>\n",
       "    </tr>\n",
       "  </thead>\n",
       "  <tbody>\n",
       "    <tr>\n",
       "      <th>BUR</th>\n",
       "      <td>1</td>\n",
       "      <td>1</td>\n",
       "      <td>1</td>\n",
       "      <td>1</td>\n",
       "    </tr>\n",
       "    <tr>\n",
       "      <th>CLT</th>\n",
       "      <td>1</td>\n",
       "      <td>1</td>\n",
       "      <td>1</td>\n",
       "      <td>1</td>\n",
       "    </tr>\n",
       "    <tr>\n",
       "      <th>FLL</th>\n",
       "      <td>1</td>\n",
       "      <td>1</td>\n",
       "      <td>1</td>\n",
       "      <td>1</td>\n",
       "    </tr>\n",
       "    <tr>\n",
       "      <th>HNL</th>\n",
       "      <td>1</td>\n",
       "      <td>1</td>\n",
       "      <td>1</td>\n",
       "      <td>1</td>\n",
       "    </tr>\n",
       "    <tr>\n",
       "      <th>IAD</th>\n",
       "      <td>1</td>\n",
       "      <td>1</td>\n",
       "      <td>1</td>\n",
       "      <td>1</td>\n",
       "    </tr>\n",
       "    <tr>\n",
       "      <th>LAS</th>\n",
       "      <td>1</td>\n",
       "      <td>1</td>\n",
       "      <td>1</td>\n",
       "      <td>1</td>\n",
       "    </tr>\n",
       "    <tr>\n",
       "      <th>LAX</th>\n",
       "      <td>4</td>\n",
       "      <td>2</td>\n",
       "      <td>4</td>\n",
       "      <td>1</td>\n",
       "    </tr>\n",
       "    <tr>\n",
       "      <th>MCO</th>\n",
       "      <td>2</td>\n",
       "      <td>2</td>\n",
       "      <td>2</td>\n",
       "      <td>1</td>\n",
       "    </tr>\n",
       "    <tr>\n",
       "      <th>MIA</th>\n",
       "      <td>1</td>\n",
       "      <td>1</td>\n",
       "      <td>1</td>\n",
       "      <td>1</td>\n",
       "    </tr>\n",
       "    <tr>\n",
       "      <th>SFO</th>\n",
       "      <td>1</td>\n",
       "      <td>1</td>\n",
       "      <td>1</td>\n",
       "      <td>1</td>\n",
       "    </tr>\n",
       "    <tr>\n",
       "      <th>SJU</th>\n",
       "      <td>2</td>\n",
       "      <td>2</td>\n",
       "      <td>2</td>\n",
       "      <td>1</td>\n",
       "    </tr>\n",
       "    <tr>\n",
       "      <th>SRQ</th>\n",
       "      <td>1</td>\n",
       "      <td>1</td>\n",
       "      <td>1</td>\n",
       "      <td>1</td>\n",
       "    </tr>\n",
       "    <tr>\n",
       "      <th>TPA</th>\n",
       "      <td>1</td>\n",
       "      <td>1</td>\n",
       "      <td>1</td>\n",
       "      <td>1</td>\n",
       "    </tr>\n",
       "  </tbody>\n",
       "</table>\n",
       "</div>"
      ],
      "text/plain": [
       "      carrier_flight_dest  carrier  flight  dest\n",
       "dest                                            \n",
       "BUR                     1        1       1     1\n",
       "CLT                     1        1       1     1\n",
       "FLL                     1        1       1     1\n",
       "HNL                     1        1       1     1\n",
       "IAD                     1        1       1     1\n",
       "LAS                     1        1       1     1\n",
       "LAX                     4        2       4     1\n",
       "MCO                     2        2       2     1\n",
       "MIA                     1        1       1     1\n",
       "SFO                     1        1       1     1\n",
       "SJU                     2        2       2     1\n",
       "SRQ                     1        1       1     1\n",
       "TPA                     1        1       1     1"
      ]
     },
     "execution_count": 192,
     "metadata": {},
     "output_type": "execute_result"
    }
   ],
   "source": [
    "final_list.groupby('dest').nunique()"
   ]
  },
  {
   "cell_type": "markdown",
   "metadata": {},
   "source": [
    "Answer: above are all the destinations these flights go to, among all, LAX, MCO and SJU have more flights flying out on a daily basis. "
   ]
  },
  {
   "cell_type": "markdown",
   "metadata": {
    "ein.tags": "worksheet-0",
    "slideshow": {
     "slide_type": "-"
    }
   },
   "source": [
    "## Question 5\n",
    "\n",
    "Develop one research question you can address using the nycflights2013\n",
    "dataset. Provide two visualizations to support your exploration of\n",
    "this question. Discuss what you find. \n",
    "\n",
    "Note: we'll using matplotlib for plotting in this course, but you can use something else too."
   ]
  },
  {
   "cell_type": "markdown",
   "metadata": {},
   "source": [
    "Question: Are departure delays in any way associated to the origin of the flight? Will be comparing dep delays in all the 3 airports of NYC "
   ]
  },
  {
   "cell_type": "code",
   "execution_count": 199,
   "metadata": {
    "autoscroll": false,
    "ein.tags": "worksheet-0",
    "slideshow": {
     "slide_type": "-"
    }
   },
   "outputs": [
    {
     "data": {
      "text/plain": [
       "Text(0, 0.5, 'Avg Departure delay')"
      ]
     },
     "execution_count": 199,
     "metadata": {},
     "output_type": "execute_result"
    },
    {
     "data": {
      "image/png": "[encoded data removed]",
      "text/plain": [
       "<Figure size 432x288 with 1 Axes>"
      ]
     },
     "metadata": {
      "needs_background": "light"
     },
     "output_type": "display_data"
    }
   ],
   "source": [
    "# Your code here\n",
    "day_dep_delay=flights_df.dropna(subset=['dep_delay','hour'])\n",
    "EWR=day_dep_delay[day_dep_delay['origin']=='EWR']\n",
    "plt.plot(EWR.groupby('hour')['dep_delay'].mean())\n",
    "plt.xlabel('Hours', size=24)\n",
    "plt.ylabel('Avg Departure delay')\n",
    "#flights_df.head()"
   ]
  },
  {
   "cell_type": "code",
   "execution_count": 200,
   "metadata": {},
   "outputs": [
    {
     "data": {
      "text/plain": [
       "Text(0, 0.5, 'Avg Departure delay')"
      ]
     },
     "execution_count": 200,
     "metadata": {},
     "output_type": "execute_result"
    },
    {
     "data": {
      "image/png": "[encoded data removed]",
      "text/plain": [
       "<Figure size 432x288 with 1 Axes>"
      ]
     },
     "metadata": {
      "needs_background": "light"
     },
     "output_type": "display_data"
    }
   ],
   "source": [
    "JFK=day_dep_delay[day_dep_delay['origin']=='JFK']\n",
    "plt.plot(JFK.groupby('hour')['dep_delay'].mean())\n",
    "plt.xlabel('Hours', size=24)\n",
    "plt.ylabel('Avg Departure delay')"
   ]
  },
  {
   "cell_type": "code",
   "execution_count": 201,
   "metadata": {},
   "outputs": [
    {
     "data": {
      "text/plain": [
       "Text(0, 0.5, 'Avg Departure delay')"
      ]
     },
     "execution_count": 201,
     "metadata": {},
     "output_type": "execute_result"
    },
    {
     "data": {
      "image/png": "[encoded data removed]",
      "text/plain": [
       "<Figure size 432x288 with 1 Axes>"
      ]
     },
     "metadata": {
      "needs_background": "light"
     },
     "output_type": "display_data"
    }
   ],
   "source": [
    "LGA=day_dep_delay[day_dep_delay['origin']=='LGA']\n",
    "plt.plot(JFK.groupby('hour')['dep_delay'].mean())\n",
    "plt.xlabel('Hours', size=24)\n",
    "plt.ylabel('Avg Departure delay')"
   ]
  },
  {
   "cell_type": "markdown",
   "metadata": {},
   "source": [
    "Answer: Accodring to the visualizations, EWR has more delays than LGA and JFK from 20 hrs- 4 hrs. Also, LGA and JFK notice more delays till 5 hrs which is lowered in case of EWR"
   ]
  },
  {
   "cell_type": "markdown",
   "metadata": {},
   "source": [
    "Best destinations to fly from NYC WRT the average speed of flights flying to the destination "
   ]
  },
  {
   "cell_type": "code",
   "execution_count": 211,
   "metadata": {},
   "outputs": [
    {
     "data": {
      "text/plain": [
       "[<matplotlib.lines.Line2D at 0x219aa542b38>]"
      ]
     },
     "execution_count": 211,
     "metadata": {},
     "output_type": "execute_result"
    },
    {
     "data": {
      "image/png": "[encoded data removed]",
      "text/plain": [
       "<Figure size 432x288 with 1 Axes>"
      ]
     },
     "metadata": {
      "needs_background": "light"
     },
     "output_type": "display_data"
    }
   ],
   "source": [
    "plot(flights_df.groupby('dest').mean().sort_values('speed',ascending = False)['speed'].head(10))"
   ]
  },
  {
   "cell_type": "markdown",
   "metadata": {},
   "source": [
    "Worst destinations to fly to from NYC WRT the average speed of flights flying to the destination"
   ]
  },
  {
   "cell_type": "code",
   "execution_count": 213,
   "metadata": {},
   "outputs": [
    {
     "data": {
      "text/plain": [
       "[<matplotlib.lines.Line2D at 0x219a85bf2b0>]"
      ]
     },
     "execution_count": 213,
     "metadata": {},
     "output_type": "execute_result"
    },
    {
     "data": {
      "image/png": "[encoded data removed]",
      "text/plain": [
       "<Figure size 432x288 with 1 Axes>"
      ]
     },
     "metadata": {
      "needs_background": "light"
     },
     "output_type": "display_data"
    }
   ],
   "source": [
    "plot(flights_df.groupby('dest').mean().sort_values('speed',ascending = True)['speed'].head(10))"
   ]
  },
  {
   "cell_type": "markdown",
   "metadata": {
    "ein.tags": "worksheet-0",
    "slideshow": {
     "slide_type": "-"
    }
   },
   "source": [
    "## Question 6\n",
    "\n",
    "What weather conditions are associated with flight delays leaving NYC?  Use graphics to explore.\n",
    "\n",
    "Note: you need to use 'weather.csv' dataset"
   ]
  },
  {
   "cell_type": "code",
   "execution_count": 284,
   "metadata": {
    "autoscroll": false,
    "ein.tags": "worksheet-0",
    "slideshow": {
     "slide_type": "-"
    }
   },
   "outputs": [
    {
     "data": {
      "text/html": [
       "<div>\n",
       "<style scoped>\n",
       "    .dataframe tbody tr th:only-of-type {\n",
       "        vertical-align: middle;\n",
       "    }\n",
       "\n",
       "    .dataframe tbody tr th {\n",
       "        vertical-align: top;\n",
       "    }\n",
       "\n",
       "    .dataframe thead th {\n",
       "        text-align: right;\n",
       "    }\n",
       "</style>\n",
       "<table border=\"1\" class=\"dataframe\">\n",
       "  <thead>\n",
       "    <tr style=\"text-align: right;\">\n",
       "      <th></th>\n",
       "      <th>Unnamed: 0</th>\n",
       "      <th>origin</th>\n",
       "      <th>year</th>\n",
       "      <th>month</th>\n",
       "      <th>day</th>\n",
       "      <th>hour</th>\n",
       "      <th>temp</th>\n",
       "      <th>dewp</th>\n",
       "      <th>humid</th>\n",
       "      <th>wind_dir</th>\n",
       "      <th>wind_speed</th>\n",
       "      <th>wind_gust</th>\n",
       "      <th>precip</th>\n",
       "      <th>pressure</th>\n",
       "      <th>visib</th>\n",
       "    </tr>\n",
       "  </thead>\n",
       "  <tbody>\n",
       "    <tr>\n",
       "      <th>8714</th>\n",
       "      <td>8715</td>\n",
       "      <td>JFK</td>\n",
       "      <td>2013</td>\n",
       "      <td>9.0</td>\n",
       "      <td>2.0</td>\n",
       "      <td>20.0</td>\n",
       "      <td>75.20</td>\n",
       "      <td>73.40</td>\n",
       "      <td>94.14</td>\n",
       "      <td>200.0</td>\n",
       "      <td>4.60312</td>\n",
       "      <td>5.297178</td>\n",
       "      <td>0.0</td>\n",
       "      <td>NaN</td>\n",
       "      <td>4.0</td>\n",
       "    </tr>\n",
       "    <tr>\n",
       "      <th>8715</th>\n",
       "      <td>8716</td>\n",
       "      <td>JFK</td>\n",
       "      <td>2013</td>\n",
       "      <td>10.0</td>\n",
       "      <td>23.0</td>\n",
       "      <td>10.0</td>\n",
       "      <td>48.92</td>\n",
       "      <td>39.02</td>\n",
       "      <td>68.51</td>\n",
       "      <td>60.0</td>\n",
       "      <td>4.60312</td>\n",
       "      <td>5.297178</td>\n",
       "      <td>0.0</td>\n",
       "      <td>1008.1</td>\n",
       "      <td>10.0</td>\n",
       "    </tr>\n",
       "    <tr>\n",
       "      <th>8716</th>\n",
       "      <td>8717</td>\n",
       "      <td>JFK</td>\n",
       "      <td>2013</td>\n",
       "      <td>10.0</td>\n",
       "      <td>23.0</td>\n",
       "      <td>11.0</td>\n",
       "      <td>48.92</td>\n",
       "      <td>39.02</td>\n",
       "      <td>68.51</td>\n",
       "      <td>40.0</td>\n",
       "      <td>4.60312</td>\n",
       "      <td>5.297178</td>\n",
       "      <td>0.0</td>\n",
       "      <td>1008.5</td>\n",
       "      <td>10.0</td>\n",
       "    </tr>\n",
       "    <tr>\n",
       "      <th>8717</th>\n",
       "      <td>8718</td>\n",
       "      <td>JFK</td>\n",
       "      <td>2013</td>\n",
       "      <td>12.0</td>\n",
       "      <td>17.0</td>\n",
       "      <td>5.0</td>\n",
       "      <td>26.96</td>\n",
       "      <td>10.94</td>\n",
       "      <td>50.34</td>\n",
       "      <td>40.0</td>\n",
       "      <td>4.60312</td>\n",
       "      <td>5.297178</td>\n",
       "      <td>0.0</td>\n",
       "      <td>1023.9</td>\n",
       "      <td>10.0</td>\n",
       "    </tr>\n",
       "    <tr>\n",
       "      <th>8718</th>\n",
       "      <td>8719</td>\n",
       "      <td>LGA</td>\n",
       "      <td>2013</td>\n",
       "      <td>8.0</td>\n",
       "      <td>22.0</td>\n",
       "      <td>22.0</td>\n",
       "      <td>75.92</td>\n",
       "      <td>66.92</td>\n",
       "      <td>73.68</td>\n",
       "      <td>210.0</td>\n",
       "      <td>8.05546</td>\n",
       "      <td>9.270062</td>\n",
       "      <td>0.0</td>\n",
       "      <td>1011.9</td>\n",
       "      <td>10.0</td>\n",
       "    </tr>\n",
       "  </tbody>\n",
       "</table>\n",
       "</div>"
      ],
      "text/plain": [
       "      Unnamed: 0 origin  year  month   day  hour   temp   dewp  humid  \\\n",
       "8714        8715    JFK  2013    9.0   2.0  20.0  75.20  73.40  94.14   \n",
       "8715        8716    JFK  2013   10.0  23.0  10.0  48.92  39.02  68.51   \n",
       "8716        8717    JFK  2013   10.0  23.0  11.0  48.92  39.02  68.51   \n",
       "8717        8718    JFK  2013   12.0  17.0   5.0  26.96  10.94  50.34   \n",
       "8718        8719    LGA  2013    8.0  22.0  22.0  75.92  66.92  73.68   \n",
       "\n",
       "      wind_dir  wind_speed  wind_gust  precip  pressure  visib  \n",
       "8714     200.0     4.60312   5.297178     0.0       NaN    4.0  \n",
       "8715      60.0     4.60312   5.297178     0.0    1008.1   10.0  \n",
       "8716      40.0     4.60312   5.297178     0.0    1008.5   10.0  \n",
       "8717      40.0     4.60312   5.297178     0.0    1023.9   10.0  \n",
       "8718     210.0     8.05546   9.270062     0.0    1011.9   10.0  "
      ]
     },
     "execution_count": 284,
     "metadata": {},
     "output_type": "execute_result"
    }
   ],
   "source": [
    "# Your code here\n",
    "weather_df= pd.read_csv('weather.csv.bz2')\n",
    "#weather_df.month.dropna()\n",
    "#weather_df['month']=weather_df['month'].astype(int)\n",
    "#weather_df['date'] = weather_df['year'].astype(str) + \"-\" + weather_df['month'].astype(int).astype(str) + \"-\" + weather_df['day'].astype(int).astype(str)\n",
    "weather_df.tail()"
   ]
  },
  {
   "cell_type": "code",
   "execution_count": 312,
   "metadata": {},
   "outputs": [
    {
     "data": {
      "text/html": [
       "<div>\n",
       "<style scoped>\n",
       "    .dataframe tbody tr th:only-of-type {\n",
       "        vertical-align: middle;\n",
       "    }\n",
       "\n",
       "    .dataframe tbody tr th {\n",
       "        vertical-align: top;\n",
       "    }\n",
       "\n",
       "    .dataframe thead th {\n",
       "        text-align: right;\n",
       "    }\n",
       "</style>\n",
       "<table border=\"1\" class=\"dataframe\">\n",
       "  <thead>\n",
       "    <tr style=\"text-align: right;\">\n",
       "      <th></th>\n",
       "      <th>Unnamed: 0</th>\n",
       "      <th>origin</th>\n",
       "      <th>year</th>\n",
       "      <th>month</th>\n",
       "      <th>day</th>\n",
       "      <th>hour</th>\n",
       "      <th>temp</th>\n",
       "      <th>dewp</th>\n",
       "      <th>humid</th>\n",
       "      <th>wind_dir</th>\n",
       "      <th>wind_speed</th>\n",
       "      <th>wind_gust</th>\n",
       "      <th>precip</th>\n",
       "      <th>pressure</th>\n",
       "      <th>visib</th>\n",
       "      <th>dep_delay</th>\n",
       "    </tr>\n",
       "  </thead>\n",
       "  <tbody>\n",
       "    <tr>\n",
       "      <th>0</th>\n",
       "      <td>6</td>\n",
       "      <td>EWR</td>\n",
       "      <td>2013</td>\n",
       "      <td>1.0</td>\n",
       "      <td>1.0</td>\n",
       "      <td>6.0</td>\n",
       "      <td>39.02</td>\n",
       "      <td>26.06</td>\n",
       "      <td>59.37</td>\n",
       "      <td>270.0</td>\n",
       "      <td>10.35702</td>\n",
       "      <td>11.918651</td>\n",
       "      <td>0.0</td>\n",
       "      <td>1012.0</td>\n",
       "      <td>10.0</td>\n",
       "      <td>8.400000</td>\n",
       "    </tr>\n",
       "    <tr>\n",
       "      <th>1</th>\n",
       "      <td>7</td>\n",
       "      <td>EWR</td>\n",
       "      <td>2013</td>\n",
       "      <td>1.0</td>\n",
       "      <td>1.0</td>\n",
       "      <td>7.0</td>\n",
       "      <td>39.02</td>\n",
       "      <td>26.96</td>\n",
       "      <td>61.63</td>\n",
       "      <td>250.0</td>\n",
       "      <td>8.05546</td>\n",
       "      <td>9.270062</td>\n",
       "      <td>0.0</td>\n",
       "      <td>1012.3</td>\n",
       "      <td>10.0</td>\n",
       "      <td>22.250000</td>\n",
       "    </tr>\n",
       "    <tr>\n",
       "      <th>2</th>\n",
       "      <td>8</td>\n",
       "      <td>EWR</td>\n",
       "      <td>2013</td>\n",
       "      <td>1.0</td>\n",
       "      <td>1.0</td>\n",
       "      <td>8.0</td>\n",
       "      <td>39.02</td>\n",
       "      <td>28.04</td>\n",
       "      <td>64.43</td>\n",
       "      <td>240.0</td>\n",
       "      <td>11.50780</td>\n",
       "      <td>13.242946</td>\n",
       "      <td>0.0</td>\n",
       "      <td>1012.5</td>\n",
       "      <td>10.0</td>\n",
       "      <td>5.500000</td>\n",
       "    </tr>\n",
       "    <tr>\n",
       "      <th>3</th>\n",
       "      <td>9</td>\n",
       "      <td>EWR</td>\n",
       "      <td>2013</td>\n",
       "      <td>1.0</td>\n",
       "      <td>1.0</td>\n",
       "      <td>9.0</td>\n",
       "      <td>39.92</td>\n",
       "      <td>28.04</td>\n",
       "      <td>62.21</td>\n",
       "      <td>250.0</td>\n",
       "      <td>12.65858</td>\n",
       "      <td>14.567241</td>\n",
       "      <td>0.0</td>\n",
       "      <td>1012.2</td>\n",
       "      <td>10.0</td>\n",
       "      <td>35.428571</td>\n",
       "    </tr>\n",
       "    <tr>\n",
       "      <th>4</th>\n",
       "      <td>10</td>\n",
       "      <td>EWR</td>\n",
       "      <td>2013</td>\n",
       "      <td>1.0</td>\n",
       "      <td>1.0</td>\n",
       "      <td>10.0</td>\n",
       "      <td>39.02</td>\n",
       "      <td>28.04</td>\n",
       "      <td>64.43</td>\n",
       "      <td>260.0</td>\n",
       "      <td>12.65858</td>\n",
       "      <td>14.567241</td>\n",
       "      <td>0.0</td>\n",
       "      <td>1011.9</td>\n",
       "      <td>10.0</td>\n",
       "      <td>10.428571</td>\n",
       "    </tr>\n",
       "  </tbody>\n",
       "</table>\n",
       "</div>"
      ],
      "text/plain": [
       "   Unnamed: 0 origin  year  month  day  hour   temp   dewp  humid  wind_dir  \\\n",
       "0           6    EWR  2013    1.0  1.0   6.0  39.02  26.06  59.37     270.0   \n",
       "1           7    EWR  2013    1.0  1.0   7.0  39.02  26.96  61.63     250.0   \n",
       "2           8    EWR  2013    1.0  1.0   8.0  39.02  28.04  64.43     240.0   \n",
       "3           9    EWR  2013    1.0  1.0   9.0  39.92  28.04  62.21     250.0   \n",
       "4          10    EWR  2013    1.0  1.0  10.0  39.02  28.04  64.43     260.0   \n",
       "\n",
       "   wind_speed  wind_gust  precip  pressure  visib  dep_delay  \n",
       "0    10.35702  11.918651     0.0    1012.0   10.0   8.400000  \n",
       "1     8.05546   9.270062     0.0    1012.3   10.0  22.250000  \n",
       "2    11.50780  13.242946     0.0    1012.5   10.0   5.500000  \n",
       "3    12.65858  14.567241     0.0    1012.2   10.0  35.428571  \n",
       "4    12.65858  14.567241     0.0    1011.9   10.0  10.428571  "
      ]
     },
     "execution_count": 312,
     "metadata": {},
     "output_type": "execute_result"
    }
   ],
   "source": [
    "#keeping only positive delays for the analysis as aggregation of negative delays gives an incorrect mean\n",
    "dep_delay = flights_df[flights_df['dep_delay'] > 0]\n",
    "#dep_delay\n",
    "\n",
    "#using groupby to aggregate the mean delay\n",
    "flight_DD= dep_delay.groupby(['year','month','day','hour','origin']).mean().reset_index()\n",
    "#flight_DD\n",
    "\n",
    "#sorting delays in descending order\n",
    "flight_depDelay=flight_DD[['year','month','day','hour','origin','dep_delay']].sort_values('dep_delay',ascending = False)\n",
    "#flight_depDelay\n",
    "#flight_depDelay.head()\n",
    "\n",
    "#merging weather data with flight in an inner join so that only valid values are used for analysis\n",
    "weather_flgt = pd.merge(weather_df, flight_depDelay, on = ['year','month','day','hour','origin'], how = 'inner')\n",
    "weather_flgt.head()\n"
   ]
  },
  {
   "cell_type": "code",
   "execution_count": 267,
   "metadata": {},
   "outputs": [],
   "source": [
    "import seaborn as sns"
   ]
  },
  {
   "cell_type": "code",
   "execution_count": 326,
   "metadata": {},
   "outputs": [
    {
     "data": {
      "text/plain": [
       "<seaborn.axisgrid.PairGrid at 0x21a14f48780>"
      ]
     },
     "execution_count": 326,
     "metadata": {},
     "output_type": "execute_result"
    },
    {
     "data": {
      "image/png": "[encoded data removed]",
      "text/plain": [
       "<Figure size 900x180 with 5 Axes>"
      ]
     },
     "metadata": {
      "needs_background": "light"
     },
     "output_type": "display_data"
    }
   ],
   "source": [
    "sns.pairplot(data=weather_flgt, y_vars=['dep_delay'],\n",
    "                  x_vars=['temp', 'dewp', 'humid','wind_dir','wind_speed'])"
   ]
  },
  {
   "cell_type": "code",
   "execution_count": 327,
   "metadata": {},
   "outputs": [
    {
     "data": {
      "text/plain": [
       "<seaborn.axisgrid.PairGrid at 0x21a15095dd8>"
      ]
     },
     "execution_count": 327,
     "metadata": {},
     "output_type": "execute_result"
    },
    {
     "data": {
      "image/png": "[encoded data removed]",
      "text/plain": [
       "<Figure size 720x180 with 4 Axes>"
      ]
     },
     "metadata": {
      "needs_background": "light"
     },
     "output_type": "display_data"
    }
   ],
   "source": [
    "sns.pairplot(data=weather_flgt, y_vars=['dep_delay'],\n",
    "                  x_vars=['wind_gust','precip','pressure','visib'])"
   ]
  },
  {
   "cell_type": "code",
   "execution_count": 328,
   "metadata": {},
   "outputs": [],
   "source": [
    "#removing outliers to understand all variables\n",
    "weather_flgt = weather_flgt[weather_flgt['wind_speed'] < 1000]\n",
    "weather_flgt = weather_flgt[weather_flgt['wind_gust'] < 1000]\n",
    "weather_flgt = weather_flgt[weather_flgt['precip'] < 1]"
   ]
  },
  {
   "cell_type": "code",
   "execution_count": 330,
   "metadata": {},
   "outputs": [
    {
     "data": {
      "image/png": "[encoded data removed]",
      "text/plain": [
       "<Figure size 432x288 with 1 Axes>"
      ]
     },
     "metadata": {
      "needs_background": "light"
     },
     "output_type": "display_data"
    }
   ],
   "source": [
    "ax = sns.scatterplot(y=\"dep_delay\", x=\"precip\", data=weather_flgt)"
   ]
  },
  {
   "cell_type": "code",
   "execution_count": 331,
   "metadata": {},
   "outputs": [
    {
     "data": {
      "image/png": "[encoded data removed]",
      "text/plain": [
       "<Figure size 432x288 with 1 Axes>"
      ]
     },
     "metadata": {
      "needs_background": "light"
     },
     "output_type": "display_data"
    }
   ],
   "source": [
    "ax = sns.scatterplot(y=\"dep_delay\", x=\"pressure\", data=weather_flgt)"
   ]
  },
  {
   "cell_type": "code",
   "execution_count": 332,
   "metadata": {},
   "outputs": [
    {
     "data": {
      "image/png": "[encoded data removed]",
      "text/plain": [
       "<Figure size 432x288 with 1 Axes>"
      ]
     },
     "metadata": {
      "needs_background": "light"
     },
     "output_type": "display_data"
    }
   ],
   "source": [
    "ax = sns.scatterplot(y=\"dep_delay\", x=\"wind_speed\", data=weather_flgt)"
   ]
  },
  {
   "cell_type": "code",
   "execution_count": 333,
   "metadata": {},
   "outputs": [
    {
     "data": {
      "image/png": "[encoded data removed]",
      "text/plain": [
       "<Figure size 432x288 with 1 Axes>"
      ]
     },
     "metadata": {
      "needs_background": "light"
     },
     "output_type": "display_data"
    }
   ],
   "source": [
    "ax = sns.scatterplot(y=\"dep_delay\", x=\"wind_gust\", data=weather_flgt)"
   ]
  },
  {
   "cell_type": "markdown",
   "metadata": {},
   "source": [
    "Answer: \n",
    "\n",
    "Precipitation: As observed, when the precipitation increases, the average departure delay reduces which makes sense because lower the precipitation it means there is snow, sleet or a freezing rain hence with higher precipitation, flight delays are less\n",
    "\n",
    "Pressure: It seems like there is a barometric pressure window which leads to higher delays. Pressure lesser than the window has lower delays and higher than the window also have lower delays\n",
    "\n",
    "Wind_speed and Wind_gust: lower wind speed and wind gust shows more delays. "
   ]
  },
  {
   "cell_type": "markdown",
   "metadata": {},
   "source": [
    "# Grading\n",
    "\n",
    "* Q1: 1pt each question (5 in total)\n",
    "* Q2: a) 2pt, b) 3pt, c) 2pt, d) 2pt, e) 1pt\n",
    "* Q3: 5pt\n",
    "* Q4: 5pt\n",
    "* Q5: 15pt\n",
    "* Q6: 10pt"
   ]
  },
  {
   "cell_type": "code",
   "execution_count": null,
   "metadata": {},
   "outputs": [],
   "source": []
  }
 ],
 "metadata": {
  "kernelspec": {
   "display_name": "Python 3",
   "language": "python",
   "name": "python3"
  },
  "language_info": {
   "codemirror_mode": {
    "name": "ipython",
    "version": 3
   },
   "file_extension": ".py",
   "mimetype": "text/x-python",
   "name": "python",
   "nbconvert_exporter": "python",
   "pygments_lexer": "ipython3",
   "version": "3.7.3"
  },
  "name": "ps01-pandas.ipynb"
 },
 "nbformat": 4,
 "nbformat_minor": 2
}
